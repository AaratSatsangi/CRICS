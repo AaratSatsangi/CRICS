{
 "cells": [
  {
   "cell_type": "code",
   "execution_count": 2,
   "metadata": {
    "ExecuteTime": {
     "end_time": "2023-07-21T11:19:13.342350Z",
     "start_time": "2023-07-21T11:19:13.219679Z"
    }
   },
   "outputs": [
    {
     "ename": "FileNotFoundError",
     "evalue": "[WinError 3] The system cannot find the path specified: './Data/SceneDetector/test/videos/'",
     "output_type": "error",
     "traceback": [
      "\u001b[1;31m---------------------------------------------------------------------------\u001b[0m",
      "\u001b[1;31mFileNotFoundError\u001b[0m                         Traceback (most recent call last)",
      "Cell \u001b[1;32mIn[2], line 16\u001b[0m\n\u001b[0;32m     14\u001b[0m \u001b[39m# model = keras.models.load_model('SD_v2.h5')\u001b[39;00m\n\u001b[0;32m     15\u001b[0m vid_paths \u001b[39m=\u001b[39m []\n\u001b[1;32m---> 16\u001b[0m \u001b[39mfor\u001b[39;00m name \u001b[39min\u001b[39;00m os\u001b[39m.\u001b[39;49mlistdir(\u001b[39m\"\u001b[39;49m\u001b[39m./Data/SceneDetector/test/videos/\u001b[39;49m\u001b[39m\"\u001b[39;49m):\n\u001b[0;32m     17\u001b[0m     vid_paths\u001b[39m.\u001b[39mappend(os\u001b[39m.\u001b[39mpath\u001b[39m.\u001b[39mjoin(\u001b[39m\"\u001b[39m\u001b[39m./Data/SceneDetector/test/videos/\u001b[39m\u001b[39m\"\u001b[39m, name))\n\u001b[0;32m     18\u001b[0m save_path \u001b[39m=\u001b[39m \u001b[39m\"\u001b[39m\u001b[39m./Data./SceneDetector./test/data/extracted/\u001b[39m\u001b[39m\"\u001b[39m \u001b[39m# Path for saving frames\u001b[39;00m\n",
      "\u001b[1;31mFileNotFoundError\u001b[0m: [WinError 3] The system cannot find the path specified: './Data/SceneDetector/test/videos/'"
     ]
    }
   ],
   "source": [
    "import cv2\n",
    "import os\n",
    "from tqdm import tqdm\n",
    "# import keras\n",
    "\n",
    "def preprocess(img):\n",
    "    img = cv2.resize(img, (256, 256))\n",
    "    img = cv2.cvtColor(img, cv2.COLOR_BGR2GRAY)\n",
    "    img.shape = (1,256, 256, 1)\n",
    "    img = img.astype(\"float32\")\n",
    "    img = (img-127.5) / 127.5\n",
    "    return img\n",
    "\n",
    "# model = keras.models.load_model('SD_v2.h5')\n",
    "vid_paths = []\n",
    "for name in os.listdir(\"./Data/SceneDetector/test/videos/\"):\n",
    "    vid_paths.append(os.path.join(\"./Data/SceneDetector/test/videos/\", name))\n",
    "save_path = \"./Data./SceneDetector./test/data/extracted/\" # Path for saving frames"
   ]
  },
  {
   "cell_type": "code",
   "execution_count": 39,
   "metadata": {},
   "outputs": [
    {
     "name": "stdout",
     "output_type": "stream",
     "text": [
      "Extracting Video: 0\n",
      "Extracting Video: 1\n",
      "Extracting Video: 2\n",
      "Extracting Video: 3\n",
      "8814\r"
     ]
    }
   ],
   "source": [
    "fps = 2\n",
    "fps = int(frame_rate/fps)+1\n",
    "current_frame = 0\n",
    "for i, vid_path in enumerate(vid_paths):\n",
    "    print(\"Extracting Video:\", i)\n",
    "    cam = cv2.VideoCapture(vid_path)\n",
    "    checking_frame = 0\n",
    "    frame_rate = int(cam.get(cv2.CAP_PROP_FPS))\n",
    "    frames_to_take = list(range(0,int(cam.get(cv2.CAP_PROP_FRAME_COUNT)),fps))\n",
    "    while(True):\n",
    "        print(checking_frame, end = \"\\r\")\n",
    "        ret, frame = cam.read()\n",
    "        if ret :\n",
    "            if(checking_frame in frames_to_take):\n",
    "                name = save_path + str(current_frame) + '.jpg'\n",
    "                cv2.imwrite(name,frame)\n",
    "                current_frame += 1\n",
    "        else:\n",
    "            break\n",
    "        checking_frame += 1\n",
    "    cam.release()\n",
    "    cv2.destroyAllWindows() \n",
    "    \n",
    "        "
   ]
  },
  {
   "cell_type": "code",
   "execution_count": 40,
   "metadata": {},
   "outputs": [
    {
     "data": {
      "text/plain": [
       "[0, 13]"
      ]
     },
     "execution_count": 40,
     "metadata": {},
     "output_type": "execute_result"
    }
   ],
   "source": [
    "fps = int(frame_rate/2)+1\n",
    "list(range(0,25,fps))"
   ]
  },
  {
   "cell_type": "code",
   "execution_count": 44,
   "metadata": {},
   "outputs": [
    {
     "name": "stdout",
     "output_type": "stream",
     "text": [
      "fps = 13\n"
     ]
    }
   ],
   "source": [
    "print(f\"fps = {fps}\")"
   ]
  },
  {
   "cell_type": "code",
   "execution_count": null,
   "metadata": {},
   "outputs": [],
   "source": [
    "import shutil\n",
    "\n",
    "os.path.relpath(,)\n",
    "\n",
    "for path in tqdm(df.iloc[index][\"path\"]):\n",
    "    path = path.replace(\"\\\\\",\"/\")\n",
    "    destination_path = \"./Data/filtered/\"\n",
    "    try:\n",
    "        _ = shutil.copy(path, destination_path)\n",
    "    except:\n",
    "        print(\"Alread Exists:\", path[11:] )\n",
    "\n",
    "    "
   ]
  },
  {
   "cell_type": "code",
   "execution_count": 3,
   "metadata": {},
   "outputs": [
    {
     "name": "stderr",
     "output_type": "stream",
     "text": [
      "100%|██████████| 555/555 [00:00<00:00, 278316.44it/s]\n"
     ]
    },
    {
     "ename": "NotADirectoryError",
     "evalue": "[WinError 267] The directory name is invalid: './Data/SceneDetector/predict/Bowling.avi/'",
     "output_type": "error",
     "traceback": [
      "\u001b[1;31m---------------------------------------------------------------------------\u001b[0m",
      "\u001b[1;31mNotADirectoryError\u001b[0m                        Traceback (most recent call last)",
      "Cell \u001b[1;32mIn[3], line 6\u001b[0m\n\u001b[0;32m      4\u001b[0m \u001b[39mfor\u001b[39;00m folder \u001b[39min\u001b[39;00m os\u001b[39m.\u001b[39mlistdir(\u001b[39m\"\u001b[39m\u001b[39m./Data/SceneDetector/predict/\u001b[39m\u001b[39m\"\u001b[39m):\n\u001b[0;32m      5\u001b[0m     img_paths \u001b[39m=\u001b[39m []\n\u001b[1;32m----> 6\u001b[0m     \u001b[39mfor\u001b[39;00m name \u001b[39min\u001b[39;00m tqdm(os\u001b[39m.\u001b[39mlistdir(\u001b[39m\"\u001b[39m\u001b[39m./Data/SceneDetector/predict/\u001b[39m\u001b[39m\"\u001b[39m \u001b[39m+\u001b[39m folder \u001b[39m+\u001b[39m \u001b[39m\"\u001b[39m\u001b[39m/\u001b[39m\u001b[39m\"\u001b[39m)):\n\u001b[0;32m      7\u001b[0m         img_paths\u001b[39m.\u001b[39mappend(os\u001b[39m.\u001b[39mpath\u001b[39m.\u001b[39mjoin(\u001b[39m\"\u001b[39m\u001b[39m./Data/SceneDetector/predict/\u001b[39m\u001b[39m\"\u001b[39m \u001b[39m+\u001b[39m folder \u001b[39m+\u001b[39m \u001b[39m\"\u001b[39m\u001b[39m/\u001b[39m\u001b[39m\"\u001b[39m, name))\n\u001b[0;32m      8\u001b[0m     folderImg_paths\u001b[39m.\u001b[39mappend(img_paths)\n",
      "\u001b[1;31mNotADirectoryError\u001b[0m: [WinError 267] The directory name is invalid: './Data/SceneDetector/predict/Bowling.avi/'"
     ]
    }
   ],
   "source": [
    "import os\n",
    "from tqdm import tqdm\n",
    "folderImg_paths = []\n",
    "for folder in os.listdir(\"./Data/SceneDetector/predict/\"):\n",
    "    img_paths = []\n",
    "    for name in tqdm(os.listdir(\"./Data/SceneDetector/predict/\" + folder + \"/\")):\n",
    "        img_paths.append(os.path.join(\"./Data/SceneDetector/predict/\" + folder + \"/\", name))\n",
    "    folderImg_paths.append(img_paths)"
   ]
  },
  {
   "cell_type": "code",
   "execution_count": 52,
   "metadata": {},
   "outputs": [
    {
     "data": {
      "text/plain": [
       "'./Data/SceneDetector/predict/Bowling/Bowling.avi'"
      ]
     },
     "execution_count": 52,
     "metadata": {},
     "output_type": "execute_result"
    }
   ],
   "source": [
    "\"/\".join(folderImg_paths[0][0].split(\"/\")[:-1]) + \"/\" + folderImg_paths[0][0].split(\"/\")[-2] + \".avi\""
   ]
  },
  {
   "cell_type": "code",
   "execution_count": 1,
   "metadata": {},
   "outputs": [
    {
     "ename": "NameError",
     "evalue": "name 'folderImg_paths' is not defined",
     "output_type": "error",
     "traceback": [
      "\u001b[1;31m---------------------------------------------------------------------------\u001b[0m",
      "\u001b[1;31mNameError\u001b[0m                                 Traceback (most recent call last)",
      "Cell \u001b[1;32mIn[1], line 21\u001b[0m\n\u001b[0;32m     17\u001b[0m     out\u001b[39m.\u001b[39mrelease()\n\u001b[0;32m     19\u001b[0m \u001b[39m# List of image file paths\u001b[39;00m\n\u001b[1;32m---> 21\u001b[0m \u001b[39mfor\u001b[39;00m i, img_paths \u001b[39min\u001b[39;00m \u001b[39menumerate\u001b[39m(folderImg_paths):\n\u001b[0;32m     22\u001b[0m     \u001b[39mprint\u001b[39m(\u001b[39m\"\u001b[39m\u001b[39mMaking:\u001b[39m\u001b[39m\"\u001b[39m, i)\n\u001b[0;32m     23\u001b[0m     output_video_path \u001b[39m=\u001b[39m \u001b[39m\"\u001b[39m\u001b[39m/\u001b[39m\u001b[39m\"\u001b[39m\u001b[39m.\u001b[39mjoin(img_paths[\u001b[39m0\u001b[39m]\u001b[39m.\u001b[39msplit(\u001b[39m\"\u001b[39m\u001b[39m/\u001b[39m\u001b[39m\"\u001b[39m)[:\u001b[39m-\u001b[39m\u001b[39m1\u001b[39m]) \u001b[39m+\u001b[39m \u001b[39m\"\u001b[39m\u001b[39m/\u001b[39m\u001b[39m\"\u001b[39m \u001b[39m+\u001b[39m img_paths[\u001b[39m0\u001b[39m]\u001b[39m.\u001b[39msplit(\u001b[39m\"\u001b[39m\u001b[39m/\u001b[39m\u001b[39m\"\u001b[39m)[\u001b[39m-\u001b[39m\u001b[39m2\u001b[39m] \u001b[39m+\u001b[39m \u001b[39m\"\u001b[39m\u001b[39m.mp4\u001b[39m\u001b[39m\"\u001b[39m\n",
      "\u001b[1;31mNameError\u001b[0m: name 'folderImg_paths' is not defined"
     ]
    }
   ],
   "source": [
    "import cv2\n",
    "\n",
    "def create_video(images, output_path, frame_rate=2):\n",
    "    # Get dimensions of the first image\n",
    "    image = cv2.imread(images[0])\n",
    "    height, width, layers = image.shape\n",
    "\n",
    "    # Define the codec and create a VideoWriter object\n",
    "    fourcc = cv2.VideoWriter_fourcc(*'XVID')\n",
    "    out = cv2.VideoWriter(output_path, fourcc, frame_rate, (width, height))\n",
    "\n",
    "    for image_path in tqdm(images):\n",
    "        frame = cv2.imread(image_path)\n",
    "        out.write(frame)\n",
    "\n",
    "    # Release the VideoWriter\n",
    "    out.release()\n",
    "\n",
    "# List of image file paths\n",
    "\n",
    "for i, img_paths in enumerate(folderImg_paths):\n",
    "    print(\"Making:\", i)\n",
    "    output_video_path = \"/\".join(img_paths[0].split(\"/\")[:-1]) + \"/\" + img_paths[0].split(\"/\")[-2] + \".mp4\"\n",
    "    create_video(img_paths, output_video_path)\n"
   ]
  },
  {
   "cell_type": "code",
   "execution_count": 7,
   "metadata": {},
   "outputs": [],
   "source": [
    "import PyTorchNN\n",
    "import torch\n",
    "from torchvision import transforms\n",
    "import torchvision.datasets as dset\n",
    "from torch.utils.data import DataLoader\n",
    "\n",
    "model = torch.load(\"Model/SceneDetector/version 2.pt\")\n",
    "model.to(model.device)\n",
    "BATCH_SIZE = model.input_shape[0]\n",
    "IMG_SIZE  = model.input_shape[2]\n",
    "transformations = transforms.Compose([\n",
    "        transforms.Resize(IMG_SIZE),\n",
    "        transforms.CenterCrop(IMG_SIZE),\n",
    "        transforms.ToTensor(),\n",
    "        transforms.Normalize((0.5,0.5,0.5),(0.5,0.5,0.5))\n",
    "        ])"
   ]
  },
  {
   "cell_type": "code",
   "execution_count": 8,
   "metadata": {},
   "outputs": [],
   "source": [
    "test_path = \"./Data/SceneDetector/test/\"\n",
    "dataset = dset.ImageFolder(root = test_path, transform = transformations)\n",
    "test_loader = DataLoader(dataset, batch_size = BATCH_SIZE, shuffle = True, num_workers = 4, pin_memory=True, timeout=120)\n"
   ]
  },
  {
   "cell_type": "code",
   "execution_count": 9,
   "metadata": {},
   "outputs": [
    {
     "name": "stdout",
     "output_type": "stream",
     "text": [
      "\tTest Loss: 0.29517\n",
      "{\n",
      "    \"Bowling\": {\n",
      "        \"precision\": 0.9618181818181818,\n",
      "        \"recall\": 0.983271375464684,\n",
      "        \"f1-score\": 0.9724264705882352,\n",
      "        \"support\": 538.0\n",
      "    },\n",
      "    \"Field\": {\n",
      "        \"precision\": 0.8091603053435115,\n",
      "        \"recall\": 0.9190751445086706,\n",
      "        \"f1-score\": 0.8606224627875508,\n",
      "        \"support\": 692.0\n",
      "    },\n",
      "    \"Misc\": {\n",
      "        \"precision\": 0.9554794520547946,\n",
      "        \"recall\": 0.8523421588594705,\n",
      "        \"f1-score\": 0.9009687836383209,\n",
      "        \"support\": 982.0\n",
      "    },\n",
      "    \"micro avg\": {\n",
      "        \"precision\": 0.9050632911392406,\n",
      "        \"recall\": 0.9050632911392406,\n",
      "        \"f1-score\": 0.9050632911392406,\n",
      "        \"support\": 2212.0\n",
      "    },\n",
      "    \"macro avg\": {\n",
      "        \"precision\": 0.9088193130721626,\n",
      "        \"recall\": 0.9182295596109418,\n",
      "        \"f1-score\": 0.9113392390047023,\n",
      "        \"support\": 2212.0\n",
      "    },\n",
      "    \"weighted avg\": {\n",
      "        \"precision\": 0.9112468060731013,\n",
      "        \"recall\": 0.9050632911392406,\n",
      "        \"f1-score\": 0.9057267318979596,\n",
      "        \"support\": 2212.0\n",
      "    },\n",
      "    \"samples avg\": {\n",
      "        \"precision\": 0.9050632911392406,\n",
      "        \"recall\": 0.9050632911392406,\n",
      "        \"f1-score\": 0.9050632911392406,\n",
      "        \"support\": 2212.0\n",
      "    }\n",
      "}\n"
     ]
    }
   ],
   "source": [
    "PyTorchNN.SequentialNN.testSequential(model, test_loader=test_loader, path_modelSave=\"Model/SceneDetector/version 2.pt\", loss=torch.nn.CrossEntropyLoss(), labels=[\"Bowling\",\"Field\",\"Misc\"])"
   ]
  },
  {
   "cell_type": "code",
   "execution_count": null,
   "metadata": {},
   "outputs": [],
   "source": []
  }
 ],
 "metadata": {
  "kernelspec": {
   "display_name": "Python 3",
   "language": "python",
   "name": "python3"
  },
  "language_info": {
   "codemirror_mode": {
    "name": "ipython",
    "version": 3
   },
   "file_extension": ".py",
   "mimetype": "text/x-python",
   "name": "python",
   "nbconvert_exporter": "python",
   "pygments_lexer": "ipython3",
   "version": "3.11.4"
  },
  "latex_envs": {
   "LaTeX_envs_menu_present": true,
   "autoclose": false,
   "autocomplete": true,
   "bibliofile": "biblio.bib",
   "cite_by": "apalike",
   "current_citInitial": 1,
   "eqLabelWithNumbers": true,
   "eqNumInitial": 1,
   "hotkeys": {
    "equation": "Ctrl-E",
    "itemize": "Ctrl-I"
   },
   "labels_anchors": false,
   "latex_user_defs": false,
   "report_style_numbering": false,
   "user_envs_cfg": false
  },
  "varInspector": {
   "cols": {
    "lenName": 16,
    "lenType": 16,
    "lenVar": 40
   },
   "kernels_config": {
    "python": {
     "delete_cmd_postfix": "",
     "delete_cmd_prefix": "del ",
     "library": "var_list.py",
     "varRefreshCmd": "print(var_dic_list())"
    },
    "r": {
     "delete_cmd_postfix": ") ",
     "delete_cmd_prefix": "rm(",
     "library": "var_list.r",
     "varRefreshCmd": "cat(var_dic_list()) "
    }
   },
   "types_to_exclude": [
    "module",
    "function",
    "builtin_function_or_method",
    "instance",
    "_Feature"
   ],
   "window_display": false
  }
 },
 "nbformat": 4,
 "nbformat_minor": 4
}
